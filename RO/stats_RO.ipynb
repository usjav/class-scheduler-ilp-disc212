{
 "cells": [
  {
   "cell_type": "markdown",
   "metadata": {},
   "source": [
    "Imports"
   ]
  },
  {
   "cell_type": "code",
   "execution_count": 4,
   "metadata": {},
   "outputs": [],
   "source": [
    "import pandas as pd\n",
    "import numpy as np\n",
    "import matplotlib.pyplot as plt"
   ]
  },
  {
   "cell_type": "markdown",
   "metadata": {},
   "source": [
    "Data Preprocessing"
   ]
  },
  {
   "cell_type": "code",
   "execution_count": 5,
   "metadata": {},
   "outputs": [],
   "source": [
    "# Load the courses data\n",
    "courses = pd.read_csv('../courses.csv')\n",
    "venues = pd.read_csv('../venues.csv')\n",
    "\n",
    "# Filter available venues\n",
    "available_venues = venues[venues['isAvailable'] == 'yes']\n",
    "\n",
    "# Split the DataFrame based on the Days column\n",
    "courses_MW = courses[courses['Days'] == 'MW']\n",
    "courses_TR = courses[courses['Days'] == 'TR']"
   ]
  },
  {
   "cell_type": "markdown",
   "metadata": {},
   "source": [
    "Helper Function"
   ]
  },
  {
   "cell_type": "code",
   "execution_count": 6,
   "metadata": {},
   "outputs": [],
   "source": [
    "# Function to calculate stats for a given courses DataFrame\n",
    "def calculate_stats(courses, available_venues):\n",
    "    results = []\n",
    "    for index, venue in available_venues.iterrows():\n",
    "        venue_name = venue['Class Venues']\n",
    "        venue_capacity = venue['Seating Capacity']\n",
    "        \n",
    "        # Filter courses assigned to this venue\n",
    "        assigned_courses = courses[courses['Class Venues'] == venue_name].copy()\n",
    "        \n",
    "        # Cap Enrollment at Seating Capacity\n",
    "        assigned_courses['Enrollment'] = assigned_courses['Enrollment'].apply(lambda x: min(x, venue_capacity))\n",
    "        \n",
    "        # Number of classes scheduled\n",
    "        classes_scheduled = assigned_courses.shape[0]\n",
    "        \n",
    "        # Calculate average space utilization\n",
    "        if classes_scheduled > 0:\n",
    "            avg_utilization = (assigned_courses['Enrollment'] / venue_capacity * 100).mean()\n",
    "        else:\n",
    "            avg_utilization = 0\n",
    "        \n",
    "        # Append results to the list\n",
    "        results.append({\n",
    "            'Venue': venue_name,\n",
    "            'Seating Capacity': venue_capacity,\n",
    "            'Classes Scheduled': classes_scheduled,\n",
    "            'Average Space Utilization %': round(avg_utilization, 2)\n",
    "        })\n",
    "\n",
    "    # Convert the results list to a DataFrame\n",
    "    stats = pd.DataFrame(results)\n",
    "    return stats"
   ]
  },
  {
   "cell_type": "markdown",
   "metadata": {},
   "source": [
    "Evaluate Stats for the RO_model"
   ]
  },
  {
   "cell_type": "code",
   "execution_count": 7,
   "metadata": {},
   "outputs": [],
   "source": [
    "# Calculate stats for MW courses\n",
    "stats_RO_MW = calculate_stats(courses_MW, available_venues)\n",
    "\n",
    "# Calculate stats for TR courses\n",
    "stats_RO_TR = calculate_stats(courses_TR, available_venues)\n",
    "\n",
    "# Save the results to a CSV file\n",
    "stats_RO_MW.to_csv('stats_RO_MW.csv', index=False)\n",
    "stats_RO_TR.to_csv('stats_RO_TR.csv', index=False)"
   ]
  }
 ],
 "metadata": {
  "kernelspec": {
   "display_name": ".venv",
   "language": "python",
   "name": "python3"
  },
  "language_info": {
   "codemirror_mode": {
    "name": "ipython",
    "version": 3
   },
   "file_extension": ".py",
   "mimetype": "text/x-python",
   "name": "python",
   "nbconvert_exporter": "python",
   "pygments_lexer": "ipython3",
   "version": "3.12.7"
  }
 },
 "nbformat": 4,
 "nbformat_minor": 2
}
