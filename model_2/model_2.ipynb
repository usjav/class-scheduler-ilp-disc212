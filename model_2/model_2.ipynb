{
 "cells": [
  {
   "cell_type": "markdown",
   "metadata": {},
   "source": [
    "Imports"
   ]
  },
  {
   "cell_type": "code",
   "execution_count": 1,
   "metadata": {},
   "outputs": [],
   "source": [
    "from pulp import LpProblem, LpVariable, LpBinary, lpSum, LpMaximize, LpStatus, PULP_CBC_CMD\n",
    "from datetime import datetime, timedelta\n",
    "import pandas as pd"
   ]
  },
  {
   "cell_type": "markdown",
   "metadata": {},
   "source": [
    "Data Preprocessing"
   ]
  },
  {
   "cell_type": "code",
   "execution_count": 2,
   "metadata": {},
   "outputs": [],
   "source": [
    "# extract data\n",
    "courses = pd.read_csv('../courses.csv')\n",
    "venues = pd.read_csv('../venues.csv')\n",
    "\n",
    "# drop unavailable venues\n",
    "available_venues = venues[venues['isAvailable'] == 'yes']\n",
    "\n",
    "# convert time to datetime and sort\n",
    "courses['Start Time'] = pd.to_datetime(courses['Start Time'], format='%I:%M %p')\n",
    "courses['End Time'] = pd.to_datetime(courses['End Time'], format='%I:%M %p')\n",
    "courses = courses.sort_values(by='Start Time')\n",
    "\n",
    "# separate MW and TR courses\n",
    "MW_courses = courses[courses['Days'] == 'MW']\n",
    "TR_courses = courses[courses['Days'] == 'TR']\n",
    "\n",
    "# reset index\n",
    "MW_courses.reset_index(drop=True, inplace=True)\n",
    "TR_courses.reset_index(drop=True, inplace=True)"
   ]
  },
  {
   "cell_type": "markdown",
   "metadata": {},
   "source": [
    "Helper Functions"
   ]
  },
  {
   "cell_type": "code",
   "execution_count": 3,
   "metadata": {},
   "outputs": [],
   "source": [
    "def weighted_sum(courses, i, venues, j):\n",
    "    w1 = courses['Enrollment'][i] / venues['Seating Capacity'][j]   # space utilization ratio\n",
    "    return w1   # + w2 + w3 + ...\n",
    "\n",
    "# more weights can be added to fine-tune the optimization\n",
    "# e.g. instructor's preference, specific venue requirement (labs, exams etc.),\n",
    "# availability of venue based on time of day (8am to 5pm can be divided into 3 weighted segments)."
   ]
  },
  {
   "cell_type": "code",
   "execution_count": 4,
   "metadata": {},
   "outputs": [],
   "source": [
    "def cook_schedule(courses, venues):\n",
    "    \"\"\"Returns the optimal schedule for the given courses and venues.\"\"\"\n",
    "\n",
    "    # Create the problem\n",
    "    problem = LpProblem(\"Class-Scheduling\", LpMaximize)\n",
    "\n",
    "    # DVs: each course can be scheduled in one of the available venues\n",
    "    x = LpVariable.dicts(\"x\", [(i, j) for i in range(len(courses)) for j in range(len(available_venues))], 0, 1, LpBinary)\n",
    "\n",
    "    # Objective Function: Maximize the average space utilization for all venues (current goal)\n",
    "    problem += lpSum(x[i, j] * weighted_sum(courses, i, venues, j) for i in range(len(courses)) for j in range(len(available_venues)))\n",
    "\n",
    "    # Constraint: Each course is scheduled in exactly one venue\n",
    "    for i in range(len(courses)):\n",
    "        problem += lpSum(x[i, j] for j in range(len(available_venues))) == 1\n",
    "\n",
    "    # Constraint: Assigned venue has enough seating capacity\n",
    "    for i in range(len(courses)):\n",
    "        for j in range(len(available_venues)):\n",
    "            if courses['Enrollment'][i] > available_venues['Seating Capacity'][j]:\n",
    "                problem += x[i, j] == 0\n",
    "\n",
    "    # Constraint: No overlapping courses in the same venue\n",
    "    overlapping_slots = []\n",
    "    for i in range(len(courses)):\n",
    "        overlaps = [k for k in range(i, len(courses)) if courses['Start Time'][k] < courses['End Time'][i] and courses['End Time'][k] > courses['Start Time'][i]]\n",
    "        if len(overlaps) > 1 and True not in [set(overlaps).issubset(slot) for slot in overlapping_slots]:\n",
    "            overlapping_slots.append(overlaps)\n",
    "\n",
    "    for j in range(len(available_venues)):\n",
    "        for overlap in overlapping_slots:\n",
    "            problem += lpSum(x[i, j] for i in overlap) <= 1\n",
    "\n",
    "    # Solve the problem\n",
    "    problem.solve(PULP_CBC_CMD())\n",
    "\n",
    "    # Optimal schedule\n",
    "    return x"
   ]
  },
  {
   "cell_type": "code",
   "execution_count": null,
   "metadata": {},
   "outputs": [],
   "source": [
    "def save_results(schedule, stats, courses, venues):\n",
    "    \"\"\"Save the optimal schedule to a file.\"\"\"\n",
    "\n",
    "    x = cook_schedule(courses, venues)  # get the optimal schedule\n",
    "    \n",
    "    # convert time to string\n",
    "    courses['Start Time'] = courses['Start Time'].dt.strftime('%I:%M %p')\n",
    "    courses['End Time'] = courses['End Time'].dt.strftime('%I:%M %p')\n",
    "\n",
    "    # write schedule to file\n",
    "    with open(f'{schedule}', 'w') as file:\n",
    "        file.write(\"Course Code,Start Time,End Time,Venue,Enrollment,Seating Capacity\\n\")\n",
    "        for i in range(len(courses)):\n",
    "            for j in range(len(venues)):\n",
    "                if x[i, j].value() == 1:\n",
    "                    file.write(f\"{courses['Course Code'][i]},{courses['Start Time'][i]},{courses['End Time'][i]},{venues['Class Venues'][j]},{courses['Enrollment'][i]},{venues['Seating Capacity'][j]}\\n\")\n",
    "\n",
    "    # venue stats for visualization\n",
    "    with open(f'{stats}', 'w') as file:\n",
    "        file.write(\"Venue,Seating Capacity,Classes Scheduled,Average Space Utilization %\\n\")\n",
    "        for j in range(len(venues)):\n",
    "            classes_scheduled = sum(x[i, j].value() for i in range(len(courses)))\n",
    "            file.write(f\"{venues['Class Venues'][j]}, {venues['Seating Capacity'][j]}, {classes_scheduled}, {sum(x[i, j].value() * (courses['Enrollment'][i] * 100/ venues['Seating Capacity'][j]) for i in range(len(courses)))/sum((x[i, j].value() for i in range(len(courses)))):.2f}\\n\")"
   ]
  },
  {
   "cell_type": "code",
   "execution_count": null,
   "metadata": {},
   "outputs": [],
   "source": [
    "# moment of truth\n",
    "save_results('schedule_MW.csv', 'stats_MW.csv', MW_courses, available_venues)\n",
    "save_results('schedule_TR.csv', 'stats_TR.csv', TR_courses, available_venues)"
   ]
  }
 ],
 "metadata": {
  "kernelspec": {
   "display_name": ".venv",
   "language": "python",
   "name": "python3"
  },
  "language_info": {
   "codemirror_mode": {
    "name": "ipython",
    "version": 3
   },
   "file_extension": ".py",
   "mimetype": "text/x-python",
   "name": "python",
   "nbconvert_exporter": "python",
   "pygments_lexer": "ipython3",
   "version": "3.12.7"
  }
 },
 "nbformat": 4,
 "nbformat_minor": 2
}
