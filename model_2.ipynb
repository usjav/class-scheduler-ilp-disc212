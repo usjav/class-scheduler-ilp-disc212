{
 "cells": [
  {
   "cell_type": "code",
   "execution_count": 1,
   "metadata": {},
   "outputs": [],
   "source": [
    "from pulp import LpProblem, LpVariable, LpBinary, lpSum, LpMaximize, LpStatus, PULP_CBC_CMD\n",
    "from datetime import datetime, timedelta\n",
    "import pandas as pd"
   ]
  },
  {
   "cell_type": "code",
   "execution_count": 2,
   "metadata": {},
   "outputs": [],
   "source": [
    "# extract data\n",
    "courses = pd.read_csv('courses.csv')\n",
    "venues = pd.read_csv('venues.csv')\n",
    "\n",
    "# drop unavailable venues\n",
    "available_venues = venues[venues['isAvailable'] == 'yes']\n",
    "\n",
    "# separate MW and TR courses\n",
    "MW_courses = courses[courses['Days'] == 'MW']\n",
    "TR_courses = courses[courses['Days'] == 'TR']\n",
    "\n",
    "# reset index\n",
    "MW_courses.reset_index(drop=True, inplace=True)\n",
    "TR_courses.reset_index(drop=True, inplace=True)"
   ]
  },
  {
   "cell_type": "code",
   "execution_count": 3,
   "metadata": {},
   "outputs": [],
   "source": [
    "# weights for the objective function\n",
    "\n",
    "# max utilization ratio\n",
    "def w1(i, j):\n",
    "    if MW_courses['Enrollment'][i] <= available_venues['Seating Capacity'][j]:\n",
    "        return MW_courses['Enrollment'][i] / available_venues['Seating Capacity'][j]\n",
    "    return 0\n",
    "\n",
    "def weighted_product(i, j, x):\n",
    "    return w1(i, j)"
   ]
  },
  {
   "cell_type": "code",
   "execution_count": null,
   "metadata": {},
   "outputs": [],
   "source": [
    "problem = LpProblem(\"Class-Scheduling\", LpMaximize)\n",
    "\n",
    "# each course can be scheduled in one of the available venues\n",
    "x = LpVariable.dicts(\"x\", [(i, j) for i in range(MW_courses.shape[0]) for j in range(len(available_venues))], 0, 1, LpBinary)\n",
    "\n",
    "# objective function\n",
    "problem += lpSum(x[i, j] * weighted_product(i, j, x) for i in range(MW_courses.shape[0]) for j in range(len(available_venues)))\n",
    "\n",
    "# Constraint: Each course is scheduled in exactly one venue\n",
    "for i in range(MW_courses.shape[0]):\n",
    "    problem += lpSum(x[i, j] for j in range(len(available_venues))) == 1\n",
    "\n",
    "# Constraint: Assigned venue has enough seating capacity\n",
    "for i in range(MW_courses.shape[0]):\n",
    "    for j in range(len(available_venues)):\n",
    "        if MW_courses['Enrollment'][i] > available_venues['Seating Capacity'][j]:\n",
    "            problem += x[i, j] == 0\n",
    "\n",
    "# Constraint: No overlapping courses in the same venue\n",
    "for j in range(len(available_venues)):\n",
    "    for i in range(MW_courses.shape[0]):\n",
    "        overlaps = [x[k, j] for k in range(MW_courses.shape[0]) if i != k and (MW_courses['Start Time'][i] < MW_courses['End Time'][k] and MW_courses['End Time'][i] > MW_courses['Start Time'][k])]\n",
    "        if len(overlaps) > 0:\n",
    "            problem += x[i, j] + lpSum(overlaps) <= 1"
   ]
  },
  {
   "cell_type": "code",
   "execution_count": 15,
   "metadata": {},
   "outputs": [
    {
     "data": {
      "text/plain": [
       "-1"
      ]
     },
     "execution_count": 15,
     "metadata": {},
     "output_type": "execute_result"
    }
   ],
   "source": [
    "# solve the problem\n",
    "problem.solve(PULP_CBC_CMD())"
   ]
  },
  {
   "cell_type": "code",
   "execution_count": 6,
   "metadata": {},
   "outputs": [],
   "source": [
    "# # print the results\n",
    "# print(\"Course Code, Enrollment, Start Time, End Time, Venue, Seating Capacity\")\n",
    "# for i in range(MW_courses.shape[0]):\n",
    "#     for j in range(len(available_venues)):\n",
    "#         if x[i, j].value() == 1:\n",
    "#             print(f\"{MW_courses['Course Code'][i]}, {MW_courses['Enrollment'][i]}, {MW_courses['Start Time'][i]}, {MW_courses['End Time'][i]}, {available_venues['Class Venues'][j]}, {available_venues['Seating Capacity'][j]}\")\n",
    "\n",
    "# # # classes scheduled per venue\n",
    "# print(\"\\nVenue, Classes Scheduled\")\n",
    "# for j in range(len(available_venues)):\n",
    "#     print(f\"{available_venues['Class Venues'][j]}, {sum(x[i, j].value() for i in range(MW_courses.shape[0]))}\")"
   ]
  },
  {
   "cell_type": "code",
   "execution_count": null,
   "metadata": {},
   "outputs": [],
   "source": []
  }
 ],
 "metadata": {
  "kernelspec": {
   "display_name": ".venv",
   "language": "python",
   "name": "python3"
  },
  "language_info": {
   "codemirror_mode": {
    "name": "ipython",
    "version": 3
   },
   "file_extension": ".py",
   "mimetype": "text/x-python",
   "name": "python",
   "nbconvert_exporter": "python",
   "pygments_lexer": "ipython3",
   "version": "3.12.7"
  }
 },
 "nbformat": 4,
 "nbformat_minor": 2
}
