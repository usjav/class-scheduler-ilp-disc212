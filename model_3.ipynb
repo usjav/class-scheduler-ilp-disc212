{
 "cells": [
  {
   "cell_type": "code",
   "execution_count": 12,
   "metadata": {},
   "outputs": [],
   "source": [
    "from pulp import LpProblem, LpVariable, LpBinary, lpSum, LpMinimize, PULP_CBC_CMD\n",
    "from datetime import datetime, timedelta\n",
    "import pandas as pd"
   ]
  },
  {
   "cell_type": "code",
   "execution_count": null,
   "metadata": {},
   "outputs": [
    {
     "data": {
      "text/plain": [
       "53"
      ]
     },
     "execution_count": 24,
     "metadata": {},
     "output_type": "execute_result"
    }
   ],
   "source": [
    "# extract data\n",
    "courses = pd.read_csv('courses.csv')\n",
    "venues = pd.read_csv('venues.csv')\n",
    "\n",
    "# separate MW and TR courses\n",
    "MW_courses = courses[courses['Days'] == 'MW']\n",
    "TR_courses = courses[courses['Days'] == 'TR']\n",
    "\n",
    "# reset index\n",
    "MW_courses = MW_courses.reset_index(drop=True)\n",
    "TR_courses = TR_courses.reset_index(drop=True)\n",
    "\n",
    "# how many venues are available\n",
    "max_available_venues = venues[venues['isAvailable'] == 'yes'].shape[0]"
   ]
  },
  {
   "cell_type": "code",
   "execution_count": 25,
   "metadata": {},
   "outputs": [],
   "source": [
    "# create a list of all possible time slots\n",
    "# Function to convert minutes to time string\n",
    "def num_to_time(minutes_from_start):\n",
    "    start = datetime.strptime(\"08:00 AM\", \"%I:%M %p\")\n",
    "    time = start + timedelta(minutes=minutes_from_start)\n",
    "    return time.strftime(\"%I:%M %p\")\n",
    "\n",
    "# Define start and end times in minutes (from 8:00 AM to 6:15 PM)\n",
    "start_time = 8 * 60  # 8:00 AM in minutes\n",
    "end_time = 18 * 60 + 15  # 6:15 PM in minutes\n",
    "time_slots = list(range(start_time, end_time + 1, 5))  # 5-min intervals\n",
    "\n",
    "# Print time slots\n",
    "# for slot_num in time_slots:\n",
    "#     print(num_to_time(slot_num - start_time))"
   ]
  },
  {
   "cell_type": "code",
   "execution_count": null,
   "metadata": {},
   "outputs": [],
   "source": [
    "# start_time, end_time for each course as binary variables\n",
    "MW_start_times = [LpVariable(f\"MW_start_time_{i}\", 0, 1, LpBinary) for i in range(MW_courses.shape[0])]\n",
    "MW_end_times = [LpVariable(f\"MW_end_time_{i}\", 0, 1, LpBinary) for i in range(MW_courses.shape[0])]\n",
    "\n",
    "TR_start_times = [LpVariable(f\"TR_start_time_{i}\", 0, 1, LpBinary) for i in range(TR_courses.shape[0])]\n",
    "TR_end_times = [LpVariable(f\"TR_end_time_{i}\", 0, 1, LpBinary) for i in range(TR_courses.shape[0])]\n",
    "\n"
   ]
  }
 ],
 "metadata": {
  "kernelspec": {
   "display_name": ".venv",
   "language": "python",
   "name": "python3"
  },
  "language_info": {
   "codemirror_mode": {
    "name": "ipython",
    "version": 3
   },
   "file_extension": ".py",
   "mimetype": "text/x-python",
   "name": "python",
   "nbconvert_exporter": "python",
   "pygments_lexer": "ipython3",
   "version": "3.12.7"
  }
 },
 "nbformat": 4,
 "nbformat_minor": 2
}
